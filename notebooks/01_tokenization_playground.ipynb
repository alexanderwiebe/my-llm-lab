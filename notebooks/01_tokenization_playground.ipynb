{
 "cells": [
  {
   "cell_type": "markdown",
   "id": "fefdee1e",
   "metadata": {},
   "source": [
    "# Tokenization Playground\n",
    "\n",
    "This notebook explores different tokenization techniques used in NLP and LLMs."
   ]
  },
  {
   "cell_type": "code",
   "execution_count": 2,
   "id": "e44f5538",
   "metadata": {},
   "outputs": [],
   "source": [
    "# Import required libraries\n",
    "import tiktoken\n",
    "from transformers import AutoTokenizer\n",
    "import matplotlib.pyplot as plt"
   ]
  },
  {
   "cell_type": "markdown",
   "id": "43614ea0",
   "metadata": {},
   "source": []
  },
  {
   "cell_type": "markdown",
   "id": "64acf32c",
   "metadata": {},
   "source": [
    "## OpenAI Tokenization with tiktoken"
   ]
  },
  {
   "cell_type": "code",
   "execution_count": 7,
   "id": "e89c752f",
   "metadata": {},
   "outputs": [
    {
     "name": "stdout",
     "output_type": "stream",
     "text": [
      "Original text: Hello, world! This is a sample text for tokenization.\n",
      "Tokens: [9906, 11, 1917, 0, 1115, 374, 264, 6205, 1495, 369, 4037, 2065, 13]\n",
      "Number of tokens: 13\n",
      "Decoded text: Hello, world! This is a sample text for tokenization.\n"
     ]
    }
   ],
   "source": [
    "# Initialize OpenAI tokenizer\n",
    "encoding = tiktoken.get_encoding(\"cl100k_base\")  # GPT-4 encoding\n",
    "\n",
    "# Sample text\n",
    "text = \"Hello, world! This is a sample text for tokenization.\"\n",
    "\n",
    "# Tokenize\n",
    "tokens = encoding.encode(text)\n",
    "print(f\"Original text: {text}\")\n",
    "print(f\"Tokens: {tokens}\")\n",
    "print(f\"Number of tokens: {len(tokens)}\")\n",
    "\n",
    "# Decode back to text\n",
    "decoded = encoding.decode(tokens)\n",
    "print(f\"Decoded text: {decoded}\")\n"
   ]
  }
 ],
 "metadata": {
  "kernelspec": {
   "display_name": "Python 3 (ipykernel)",
   "language": "python",
   "name": "python3"
  },
  "language_info": {
   "codemirror_mode": {
    "name": "ipython",
    "version": 3
   },
   "file_extension": ".py",
   "mimetype": "text/x-python",
   "name": "python",
   "nbconvert_exporter": "python",
   "pygments_lexer": "ipython3",
   "version": "3.11.13"
  }
 },
 "nbformat": 4,
 "nbformat_minor": 5
}
